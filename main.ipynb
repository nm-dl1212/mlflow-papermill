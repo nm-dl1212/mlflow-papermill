{
 "cells": [
  {
   "cell_type": "code",
   "execution_count": 13,
   "metadata": {
    "tags": [
     "parameters"
    ]
   },
   "outputs": [],
   "source": [
    "# parameters \n",
    "EXPERIMENT_NAME = \"Default\"\n",
    "NOTEBOOK_NAME = \"main.ipynb\"\n",
    "PARAMETERS = { \n",
    "    \"datasetPath\": \"data/sample.csv\",\n",
    "    \"color\": \"green\"\n",
    "}"
   ]
  },
  {
   "cell_type": "code",
   "execution_count": null,
   "metadata": {},
   "outputs": [],
   "source": [
    "# ml-flowのセットアップ\n",
    "import mlflow\n",
    "import sqlite3\n",
    "\n",
    "# mlflow connect\n",
    "DB_PATH = 'mlflow.db'\n",
    "conn = sqlite3.connect(DB_PATH)\n",
    "mlflow.set_tracking_uri(f'sqlite:///{DB_PATH}')\n",
    "\n",
    "# 実験IDを新規生成\n",
    "experiment = mlflow.get_experiment_by_name(EXPERIMENT_NAME)\n",
    "if experiment is None:  # 当該Experiment存在しないとき、新たに作成\n",
    "    experiment_id = mlflow.create_experiment(\n",
    "                            name=EXPERIMENT_NAME)\n",
    "else: # 当該Experiment存在するとき、IDを取得\n",
    "    experiment_id = experiment.experiment_id\n",
    "print(\"exp id:\", experiment_id)"
   ]
  },
  {
   "cell_type": "markdown",
   "metadata": {},
   "source": [
    "### メイン処理"
   ]
  },
  {
   "cell_type": "code",
   "execution_count": 15,
   "metadata": {},
   "outputs": [],
   "source": [
    "import numpy as np\n",
    "import matplotlib.pyplot as plt"
   ]
  },
  {
   "cell_type": "code",
   "execution_count": 16,
   "metadata": {},
   "outputs": [],
   "source": [
    "data = np.loadtxt(PARAMETERS[\"datasetPath\"], delimiter=\",\")"
   ]
  },
  {
   "cell_type": "code",
   "execution_count": null,
   "metadata": {},
   "outputs": [],
   "source": [
    "fig, ax = plt.subplots()\n",
    "ax.plot(data[:, 0], data[:,1], \"o\", c=PARAMETERS[\"color\"])\n",
    "fig.show()"
   ]
  },
  {
   "cell_type": "markdown",
   "metadata": {},
   "source": [
    "### 保存処理"
   ]
  },
  {
   "cell_type": "code",
   "execution_count": 18,
   "metadata": {},
   "outputs": [],
   "source": [
    "# 一度ノートブック全体を保存してから実行\n",
    "with mlflow.start_run(experiment_id=experiment_id):\n",
    "    mlflow.log_params(PARAMETERS)\n",
    "    mlflow.log_figure(fig, \"test.png\")\n",
    "    mlflow.log_artifact(NOTEBOOK_NAME)"
   ]
  }
 ],
 "metadata": {
  "kernelspec": {
   "display_name": "Python 3",
   "language": "python",
   "name": "python3"
  },
  "language_info": {
   "codemirror_mode": {
    "name": "ipython",
    "version": 3
   },
   "file_extension": ".py",
   "mimetype": "text/x-python",
   "name": "python",
   "nbconvert_exporter": "python",
   "pygments_lexer": "ipython3",
   "version": "3.11.10"
  }
 },
 "nbformat": 4,
 "nbformat_minor": 2
}
